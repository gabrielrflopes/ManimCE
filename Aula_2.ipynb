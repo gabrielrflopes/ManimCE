{
 "cells": [
  {
   "cell_type": "markdown",
   "metadata": {},
   "source": [
    "# ManimCE Descomplicado"
   ]
  },
  {
   "cell_type": "markdown",
   "metadata": {},
   "source": [
    "## Aula 2 - Grupos, transformações e updaters"
   ]
  },
  {
   "cell_type": "code",
   "execution_count": 1,
   "metadata": {},
   "outputs": [
    {
     "data": {
      "text/html": [
       "<pre style=\"white-space:pre;overflow-x:auto;line-height:normal;font-family:Menlo,'DejaVu Sans Mono',consolas,'Courier New',monospace\">Manim Community <span style=\"color: #008000; text-decoration-color: #008000\">v0.17.3</span>\n",
       "\n",
       "</pre>\n"
      ],
      "text/plain": [
       "Manim Community \u001b[32mv0.\u001b[0m\u001b[32m17.3\u001b[0m\n",
       "\n"
      ]
     },
     "metadata": {},
     "output_type": "display_data"
    }
   ],
   "source": [
    "from manim import *"
   ]
  },
  {
   "cell_type": "markdown",
   "metadata": {},
   "source": [
    "### Agrupando Objetos e Animações"
   ]
  },
  {
   "cell_type": "markdown",
   "metadata": {},
   "source": [
    "Às vezes, será mais útil trabalhar com objetos agrupados do que com os objetos individuais. Podemos reunir um grupo e aplicar transformações sobre todos os objetos contidos nele de uma só vez. Para esse propósito, a classe `VGroup` reúne diversos _MObjects_ num grupo, de modo que as mudanças aplicadas ao grupo são transmitidas a todos os elementos contidos nele, isto é, transformar, dimensionar, organizar e animar objetos."
   ]
  },
  {
   "cell_type": "code",
   "execution_count": 78,
   "metadata": {},
   "outputs": [],
   "source": [
    "class VGroupEx(Scene):\n",
    "    def construct(self):\n",
    "\n",
    "        s1 = Square(color = RED)\n",
    "        s2 = Square(color = GREEN)\n",
    "        s3 = Square(color = BLUE)\n",
    "\n",
    "        square_group = VGroup(s1, s2, s3)\n",
    "\n",
    "        square_group.arrange_in_grid(1, 3)\n",
    "\n",
    "        self.play(\n",
    "            Write(square_group)\n",
    "        )\n",
    "        \n",
    "        self.play(\n",
    "            square_group[1].animate.scale(1.5).shift(DOWN),\n",
    "            square_group[2].animate.shift(RIGHT),\n",
    "            square_group[0].animate.shift(LEFT)\n",
    "        )\n",
    "\n",
    "        colors = [RED, GREEN, BLUE]\n",
    "\n",
    "        sq_anim = AnimationGroup(square_group[0].animate.set_fill(colors[0], 1),\n",
    "                                 square_group[1].animate.set_fill(colors[1], 1),\n",
    "                                 square_group[2].animate.set_fill(colors[2], 1), \n",
    "                                 lag_ratio = .2)\n",
    "\n",
    "        self.play(sq_anim)\n",
    "\n",
    "        self.wait()"
   ]
  },
  {
   "cell_type": "code",
   "execution_count": 79,
   "metadata": {},
   "outputs": [
    {
     "name": "stderr",
     "output_type": "stream",
     "text": [
      "Animation 1: _MethodAnimation(Square), etc.:   0%|          | 0/1 [00:00<?, ?it/s]"
     ]
    },
    {
     "name": "stderr",
     "output_type": "stream",
     "text": [
      "                                                                                   \r"
     ]
    },
    {
     "data": {
      "text/html": [
       "<video src=\"media\\jupyter\\VGroupEx@2024-01-11@16-49-55.mp4\" controls autoplay loop style=\"max-width: 60%;\"  >\n",
       "      Your browser does not support the <code>video</code> element.\n",
       "    </video>"
      ],
      "text/plain": [
       "<IPython.core.display.Video object>"
      ]
     },
     "metadata": {},
     "output_type": "display_data"
    }
   ],
   "source": [
    "%manim -qm -v warning VGroupEx"
   ]
  },
  {
   "cell_type": "markdown",
   "metadata": {},
   "source": [
    "### Organizando Objetos - Arrange e Arrange in Grid"
   ]
  },
  {
   "cell_type": "markdown",
   "metadata": {},
   "source": [
    "A classe `VGroup` contém funções de organização dos arranjos de objetos. É uma maneira simples de ordenar os elementos do grupo em tela, de modo que eles fiquem próximos um do outro numa direção especificada. A função `arrange` acompanha o `VGroup` e organiza os elementos de acordo com alguma direção (DOWN, UP, RIGHT, LEFT, ou uma combinação destes).\n",
    "\n",
    "Outra função muito comum e mais geral é o `arrange_in_grid` que organiza os elementos em uma grade, ou matriz de objetos. Essa função tenta colocar os objetos numa grade de acordo com as dimensões especificadas como argumento, como número de linhas e colunas. Por exemplo, se tenho um grupo de 4 quadrados, posso querer arranjá-los numa grade de 2x2. Para isso, utilizo `squares.arrange_in_grid(2, 2)`."
   ]
  },
  {
   "cell_type": "code",
   "execution_count": 100,
   "metadata": {},
   "outputs": [],
   "source": [
    "from random import uniform\n",
    "\n",
    "class ArrangeEx(Scene):\n",
    "    def construct(self):\n",
    "\n",
    "        circles = VGroup(\n",
    "            *[Circle(radius = .1).scale(uniform(.4, 3)).shift(UP * uniform(-3, 3) + RIGHT * uniform(-4, 4))\n",
    "              for _ in range(12)]\n",
    "        )\n",
    "\n",
    "        self.play(FadeIn(circles))\n",
    "\n",
    "        # Sem especificar direção, o método organiza da esquerda para a direita\n",
    "        self.play(circles.animate.arrange())\n",
    "\n",
    "        # Especificando direções\n",
    "        self.play(circles.animate.arrange(DOWN, buff = .2))\n",
    "        self.play(circles.animate.arrange(LEFT + UP, buff = .2))\n",
    "\n",
    "        self.wait(.5)\n",
    "\n",
    "        self.play(Unwrite(circles))"
   ]
  },
  {
   "cell_type": "code",
   "execution_count": 101,
   "metadata": {},
   "outputs": [
    {
     "name": "stderr",
     "output_type": "stream",
     "text": [
      "                                                                                                        \r"
     ]
    },
    {
     "data": {
      "text/html": [
       "<video src=\"media\\jupyter\\ArrangeEx@2024-01-11@18-58-33.mp4\" controls autoplay loop style=\"max-width: 60%;\"  >\n",
       "      Your browser does not support the <code>video</code> element.\n",
       "    </video>"
      ],
      "text/plain": [
       "<IPython.core.display.Video object>"
      ]
     },
     "metadata": {},
     "output_type": "display_data"
    }
   ],
   "source": [
    "%manim -qm -v warning ArrangeEx"
   ]
  },
  {
   "cell_type": "code",
   "execution_count": null,
   "metadata": {},
   "outputs": [],
   "source": []
  }
 ],
 "metadata": {
  "kernelspec": {
   "display_name": ".venv",
   "language": "python",
   "name": "python3"
  },
  "language_info": {
   "codemirror_mode": {
    "name": "ipython",
    "version": 3
   },
   "file_extension": ".py",
   "mimetype": "text/x-python",
   "name": "python",
   "nbconvert_exporter": "python",
   "pygments_lexer": "ipython3",
   "version": "3.11.4"
  }
 },
 "nbformat": 4,
 "nbformat_minor": 2
}

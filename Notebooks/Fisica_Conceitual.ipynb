{
 "cells": [
  {
   "cell_type": "code",
   "execution_count": 1,
   "metadata": {},
   "outputs": [
    {
     "data": {
      "text/html": [
       "<pre style=\"white-space:pre;overflow-x:auto;line-height:normal;font-family:Menlo,'DejaVu Sans Mono',consolas,'Courier New',monospace\">Manim Community <span style=\"color: #008000; text-decoration-color: #008000\">v0.17.3</span>\n",
       "\n",
       "</pre>\n"
      ],
      "text/plain": [
       "Manim Community \u001b[32mv0.\u001b[0m\u001b[32m17.3\u001b[0m\n",
       "\n"
      ]
     },
     "metadata": {},
     "output_type": "display_data"
    }
   ],
   "source": [
    "from manim import *\n",
    "import numpy as np"
   ]
  },
  {
   "cell_type": "code",
   "execution_count": 2,
   "metadata": {},
   "outputs": [
    {
     "name": "stderr",
     "output_type": "stream",
     "text": [
      "                                                                                            \r"
     ]
    },
    {
     "data": {
      "text/html": [
       "<video src=\"media\\jupyter\\Space@2023-12-29@16-24-37.mp4\" controls autoplay loop style=\"max-width: 60%;\"  >\n",
       "      Your browser does not support the <code>video</code> element.\n",
       "    </video>"
      ],
      "text/plain": [
       "<IPython.core.display.Video object>"
      ]
     },
     "metadata": {},
     "output_type": "display_data"
    }
   ],
   "source": [
    "%%manim -qh -v WARNING Space\n",
    "\n",
    "class Space(Scene):\n",
    "    def construct(self):\n",
    "\n",
    "        self.camera.background_color = '#191919'\n",
    "\n",
    "        ax = NumberLine(x_range = [-5, 5], length = 8)\n",
    "        vt = ValueTracker(1)\n",
    "        dot = Dot(color = RED).move_to([1, 0, 0]).scale(2)\n",
    "        vector = Arrow(ORIGIN, dot.get_center(), color = BLUE_C)\n",
    "\n",
    "        dot.add_updater(\n",
    "            lambda mob: mob.move_to(ax.number_to_point(vt.get_value()))\n",
    "            )\n",
    "\n",
    "        def update_vector(vector):\n",
    "            vector.put_start_and_end_on(ORIGIN, ax.number_to_point(vt.get_value()) - [.01, 0, 0])\n",
    "\n",
    "        vector.add_updater(update_vector)\n",
    "        dot.update()\n",
    "\n",
    "        self.play(Write(ax, run_time = 1.3))\n",
    "        self.play(FadeIn(dot), FadeIn(vector))\n",
    "        self.wait()\n",
    "        self.play(vt.animate.set_value(3))\n",
    "        self.wait()\n",
    "        self.play(vt.animate.set_value(-3))\n",
    "        self.wait()\n",
    "        self.play(vt.animate.set_value(0))\n",
    "        self.play(FadeOut(vector))\n",
    "        self.wait()"
   ]
  },
  {
   "cell_type": "code",
   "execution_count": 6,
   "metadata": {},
   "outputs": [
    {
     "name": "stderr",
     "output_type": "stream",
     "text": [
      "                                                                         \r"
     ]
    },
    {
     "data": {
      "text/html": [
       "<video src=\"media\\jupyter\\Space2D@2023-07-29@22-56-10.mp4\" controls autoplay loop style=\"max-width: 60%;\"  >\n",
       "      Your browser does not support the <code>video</code> element.\n",
       "    </video>"
      ],
      "text/plain": [
       "<IPython.core.display.Video object>"
      ]
     },
     "metadata": {},
     "output_type": "display_data"
    }
   ],
   "source": [
    "%%manim -qm -v WARNING Space2D\n",
    "\n",
    "class Space2D(Scene):\n",
    "    def construct(self):\n",
    "\n",
    "        self.camera.background_color = '#191919'\n",
    "\n",
    "        dot = Dot([1, 1, 0], color = RED)\n",
    "        ax = Axes(x_range = [-3, 3, 1], y_range = [-3, 3, 1], x_length = 6, y_length = 6)\n",
    "        vector = Vector(direction = [1, 1, 0], color = WHITE)\n",
    "        pos = MathTex('\\\\vec{r}', color = WHITE)\n",
    "\n",
    "        def update_vector(vector):\n",
    "            vector.put_start_and_end_on(ORIGIN, dot.get_center() - .01)\n",
    "            pos.next_to(vector[1])\n",
    "\n",
    "        vector.add_updater(update_vector)\n",
    "\n",
    "        self.add(ax, dot, vector, pos)\n",
    "\n",
    "        self.play(dot.animate.move_to([2, 2, 0]))\n",
    "        self.wait(.5)\n",
    "        self.play(dot.animate.move_to([-2, 2, 0]))\n",
    "        self.wait(.5)\n",
    "        self.play(dot.animate.move_to([-1, -1, 0]))\n",
    "        self.wait(.5)\n",
    "        self.play(dot.animate.move_to([1, -1, 0]))\n",
    "        self.wait(.5)\n",
    "        self.play(dot.animate.move_to([1, 1, 0]))\n",
    "        self.wait(.5)"
   ]
  },
  {
   "cell_type": "code",
   "execution_count": 5,
   "metadata": {},
   "outputs": [
    {
     "name": "stderr",
     "output_type": "stream",
     "text": [
      "                                                                                   \r"
     ]
    },
    {
     "data": {
      "text/html": [
       "<video src=\"media\\jupyter\\ParticleMotion2D@2023-12-01@10-43-04.mp4\" controls autoplay loop style=\"max-width: 60%;\"  >\n",
       "      Your browser does not support the <code>video</code> element.\n",
       "    </video>"
      ],
      "text/plain": [
       "<IPython.core.display.Video object>"
      ]
     },
     "metadata": {},
     "output_type": "display_data"
    }
   ],
   "source": [
    "\n",
    "%%manim -qm -v WARNING ParticleMotion2D\n",
    "\n",
    "class ParticleMotion2D(Scene):\n",
    "    def construct(self):\n",
    "        self.camera.background_color = '#191919'\n",
    "\n",
    "        # Create a dot representing the particle\n",
    "        dot = Dot([1, 1, 0], color=RED)\n",
    "\n",
    "        # Create 2D axes\n",
    "        ax = Axes(x_range=[-3, 3, 1], y_range=[-3, 3, 1], x_length=6, y_length=6)\n",
    "\n",
    "        # Create a vector representing the position\n",
    "        vector = Vector(direction=[1, 1, 0], color=WHITE)\n",
    "\n",
    "        # Label for the position vector\n",
    "        pos = MathTex('\\\\vec{r}', color=WHITE)\n",
    "\n",
    "        def update_vector(vector):\n",
    "            vector.put_start_and_end_on(ORIGIN, dot.get_center() - 0.01)\n",
    "            pos.next_to(vector.get_end(), RIGHT, buff=0.1)\n",
    "\n",
    "        vector.add_updater(update_vector)\n",
    "\n",
    "        # Add objects to the scene\n",
    "        self.add(ax, dot, vector, pos)\n",
    "\n",
    "        # Perform particle motion animation\n",
    "        self.play(dot.animate.move_to([2, 2, 0]))\n",
    "        self.wait(0.5)\n",
    "        self.play(dot.animate.move_to([-2, 2, 0]))\n",
    "        self.wait(0.5)\n",
    "        self.play(dot.animate.move_to([-1, -1, 0]))\n",
    "        self.wait(0.5)\n",
    "        self.play(dot.animate.move_to([1, -1, 0]))\n",
    "        self.wait(0.5)\n",
    "        self.play(dot.animate.move_to([1, 1, 0]))\n",
    "        self.wait(0.5)"
   ]
  }
 ],
 "metadata": {
  "kernelspec": {
   "display_name": ".venv",
   "language": "python",
   "name": "python3"
  },
  "language_info": {
   "codemirror_mode": {
    "name": "ipython",
    "version": 3
   },
   "file_extension": ".py",
   "mimetype": "text/x-python",
   "name": "python",
   "nbconvert_exporter": "python",
   "pygments_lexer": "ipython3",
   "version": "3.11.4"
  },
  "orig_nbformat": 4
 },
 "nbformat": 4,
 "nbformat_minor": 2
}

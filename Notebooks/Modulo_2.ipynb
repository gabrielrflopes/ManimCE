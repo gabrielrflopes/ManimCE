{
 "cells": [
  {
   "cell_type": "markdown",
   "metadata": {},
   "source": [
    "# ManimCE Descomplicado"
   ]
  },
  {
   "cell_type": "markdown",
   "metadata": {},
   "source": [
    "## Módulo 2 - Grupos, transformações e updaters"
   ]
  },
  {
   "cell_type": "code",
   "execution_count": 2,
   "metadata": {},
   "outputs": [
    {
     "data": {
      "text/html": [
       "<pre style=\"white-space:pre;overflow-x:auto;line-height:normal;font-family:Menlo,'DejaVu Sans Mono',consolas,'Courier New',monospace\">Manim Community <span style=\"color: #008000; text-decoration-color: #008000\">v0.17.3</span>\n",
       "\n",
       "</pre>\n"
      ],
      "text/plain": [
       "Manim Community \u001b[32mv0.\u001b[0m\u001b[32m17.3\u001b[0m\n",
       "\n"
      ]
     },
     "metadata": {},
     "output_type": "display_data"
    }
   ],
   "source": [
    "from manim import *"
   ]
  },
  {
   "cell_type": "markdown",
   "metadata": {},
   "source": [
    "### 2.1 Agrupando Objetos e Animações"
   ]
  },
  {
   "cell_type": "markdown",
   "metadata": {},
   "source": [
    "Às vezes, será mais útil trabalhar com objetos agrupados do que com os objetos individuais. Podemos reunir um grupo e aplicar transformações sobre todos os objetos contidos nele de uma só vez. Para esse propósito, a classe `VGroup` reúne diversos _MObjects_ num grupo, de modo que as mudanças aplicadas ao grupo são transmitidas a todos os elementos contidos nele, isto é, transformar, dimensionar, organizar e animar objetos."
   ]
  },
  {
   "cell_type": "code",
   "execution_count": 2,
   "metadata": {},
   "outputs": [],
   "source": [
    "class VGroupEx(Scene):\n",
    "    def construct(self):\n",
    "\n",
    "        s1 = Square(color = RED)\n",
    "        s2 = Square(color = GREEN)\n",
    "        s3 = Square(color = BLUE)\n",
    "\n",
    "        square_group = VGroup(s1, s2, s3)\n",
    "\n",
    "        square_group.arrange_in_grid(1, 3)\n",
    "\n",
    "        self.play(\n",
    "            Write(square_group)\n",
    "        )\n",
    "        \n",
    "        self.play(\n",
    "            square_group[1].animate.scale(1.5).shift(DOWN),\n",
    "            square_group[2].animate.shift(RIGHT),\n",
    "            square_group[0].animate.shift(LEFT)\n",
    "        )\n",
    "\n",
    "        colors = [RED, GREEN, BLUE]\n",
    "\n",
    "        sq_anim = AnimationGroup(square_group[0].animate.set_fill(colors[0], 1),\n",
    "                                 square_group[1].animate.set_fill(colors[1], 1),\n",
    "                                 square_group[2].animate.set_fill(colors[2], 1), \n",
    "                                 lag_ratio = .2)\n",
    "\n",
    "        self.play(sq_anim)\n",
    "\n",
    "        self.wait()"
   ]
  },
  {
   "cell_type": "code",
   "execution_count": 3,
   "metadata": {},
   "outputs": [
    {
     "name": "stderr",
     "output_type": "stream",
     "text": [
      "                                                                                  \r"
     ]
    },
    {
     "data": {
      "text/html": [
       "<video src=\"media\\jupyter\\VGroupEx@2024-01-14@11-30-01.mp4\" controls autoplay loop style=\"max-width: 60%;\"  >\n",
       "      Your browser does not support the <code>video</code> element.\n",
       "    </video>"
      ],
      "text/plain": [
       "<IPython.core.display.Video object>"
      ]
     },
     "metadata": {},
     "output_type": "display_data"
    }
   ],
   "source": [
    "%manim -qm -v warning VGroupEx"
   ]
  },
  {
   "cell_type": "markdown",
   "metadata": {},
   "source": [
    "### 2.2 Organizando Objetos - Arrange e Arrange in Grid"
   ]
  },
  {
   "cell_type": "markdown",
   "metadata": {},
   "source": [
    "A classe `VGroup` contém funções de organização dos arranjos de objetos. É uma maneira simples de ordenar os elementos do grupo em tela, de modo que eles fiquem próximos um do outro numa direção especificada. \n",
    "\n",
    "A função `arrange` acompanha o `VGroup` e organiza os elementos de acordo com alguma direção (DOWN, UP, RIGHT, LEFT, ou uma combinação destes).\n",
    "\n",
    "Outra função muito comum e mais geral é o `arrange_in_grid` que organiza os elementos em uma grade, ou matriz de objetos. Essa função tenta colocar os objetos numa grade de acordo com as dimensões especificadas como argumento, como número de linhas e colunas. Por exemplo, se tenho um grupo de 4 quadrados, posso querer arranjá-los numa grade de 2x2. Para isso, utilizo `squares.arrange_in_grid(2, 2)`."
   ]
  },
  {
   "cell_type": "code",
   "execution_count": 4,
   "metadata": {},
   "outputs": [],
   "source": [
    "from random import uniform\n",
    "\n",
    "class ArrangeEx(Scene):\n",
    "    def construct(self):\n",
    "\n",
    "        circles = VGroup(\n",
    "            *[Circle(radius = .1).scale(uniform(.4, 3)).shift(UP * uniform(-3, 3) + RIGHT * uniform(-4, 4))\n",
    "              for _ in range(12)]\n",
    "        )\n",
    "\n",
    "        self.play(FadeIn(circles))\n",
    "\n",
    "        # Sem especificar direção, o método organiza da esquerda para a direita\n",
    "        self.play(circles.animate.arrange())\n",
    "\n",
    "        # Especificando direções\n",
    "        self.play(circles.animate.arrange(DOWN, buff = .2))\n",
    "        self.play(circles.animate.arrange(LEFT + UP, buff = .2))\n",
    "\n",
    "        self.wait(.5)\n",
    "\n",
    "        self.play(Unwrite(circles))"
   ]
  },
  {
   "cell_type": "code",
   "execution_count": 5,
   "metadata": {},
   "outputs": [
    {
     "name": "stderr",
     "output_type": "stream",
     "text": [
      "                                                                                                        \r"
     ]
    },
    {
     "data": {
      "text/html": [
       "<video src=\"media\\jupyter\\ArrangeEx@2024-01-14@11-30-09.mp4\" controls autoplay loop style=\"max-width: 60%;\"  >\n",
       "      Your browser does not support the <code>video</code> element.\n",
       "    </video>"
      ],
      "text/plain": [
       "<IPython.core.display.Video object>"
      ]
     },
     "metadata": {},
     "output_type": "display_data"
    }
   ],
   "source": [
    "%manim -qm -v warning ArrangeEx"
   ]
  },
  {
   "cell_type": "markdown",
   "metadata": {},
   "source": [
    "O argumento _buff_ define a separação entre os elementos consecutivos. Quanto menor for o _buff_, mais próximos os objetos estarão um do outro na direção que foi especificada.\n",
    "\n",
    "Vamos agora construir uma cena com `arrange_in_grid`, organizando os objetos numa grade ou matriz."
   ]
  },
  {
   "cell_type": "code",
   "execution_count": 8,
   "metadata": {},
   "outputs": [],
   "source": [
    "class ArrangeInGridEx(Scene):\n",
    "    def construct(self):\n",
    "\n",
    "        '''\n",
    "        Criar conjunto de quadrados agrupados com VGroup.\n",
    "        Utilizo o .scale() para ajustar os tamanhos, adi-\n",
    "        ciono texto nos centros dos quadrados com .add(),\n",
    "        e espalho os quadrados ao longo da tela com .shift().\n",
    "        '''\n",
    "\n",
    "        squares = VGroup(\n",
    "            *[Square()\n",
    "              .scale(.5)\n",
    "              .add(Tex(str(i + 1)).scale(.8))\n",
    "              .shift(UP * uniform(-5, 5) + LEFT * uniform(-5, 5))\n",
    "              for i in range(25)]\n",
    "        )\n",
    "\n",
    "        self.play(\n",
    "            Write(squares, lag_ratio = 0)\n",
    "        )\n",
    "\n",
    "        '''\n",
    "        O método arrange_in_grid acompanha o objeto e, no\n",
    "        contexto da cena, é animado junto com o objeto.\n",
    "        Novamente, o buff é a separação dos elementos e,\n",
    "        neste caso, pode ser uma tupla especificando o espa-\n",
    "        çamento horizontal e vertical.\n",
    "        '''\n",
    "\n",
    "        self.play(\n",
    "            squares.animate.arrange_in_grid(5, 5, buff = (.2, .2))\n",
    "            )\n",
    "\n",
    "        self.wait(.5)\n",
    "\n",
    "        self.play(\n",
    "            Unwrite(squares, lag_ratio = 0)\n",
    "        )"
   ]
  },
  {
   "cell_type": "code",
   "execution_count": 9,
   "metadata": {},
   "outputs": [
    {
     "name": "stderr",
     "output_type": "stream",
     "text": [
      "                                                                                                        \r"
     ]
    },
    {
     "data": {
      "text/html": [
       "<video src=\"media\\jupyter\\ArrangeInGridEx@2024-01-14@11-43-05.mp4\" controls autoplay loop style=\"max-width: 60%;\"  >\n",
       "      Your browser does not support the <code>video</code> element.\n",
       "    </video>"
      ],
      "text/plain": [
       "<IPython.core.display.Video object>"
      ]
     },
     "metadata": {},
     "output_type": "display_data"
    }
   ],
   "source": [
    "%manim -qm -v warning ArrangeInGridEx"
   ]
  },
  {
   "cell_type": "markdown",
   "metadata": {},
   "source": [
    "No código acima, fizemos nosso procedimento padrão de criação de cenas. Você já deve ter percebido agora o quão útil é a utilização da classe **VGroup()** para agrupar objetos de um mesmo tipo e manipulá-los antes mesmo de qualquer animação. Fizemos três manipulações com os quadrados que criamos. \n",
    "\n",
    "Primeiramente, utilizando o `.scale()` ajustamos o tamanho de cada um. \n",
    "\n",
    "Em seguida, com `add()` eu quis adicionar os números para identificar cada quadrado, de modo que cada número fosse iterado dentro da list comprehension do próprio VGroup. \n",
    "\n",
    "Por último, o `shift()` foi utilizado para espalhar os quadrados pela cena, embaralhando-os antes de organizá-los. Para isso, multipliquei as direções com uma distribuição **uniforme**, que gera números aleatórios dentro de um intervalo.\n",
    "\n",
    "A aplicação do **arrange_in_grid** é bem direta. Dentro do contexto do `self.play()`, o método sempre acompanhará o objeto e a sintaxe `animate`. Os argumentos consistem do formato ou _shape_ da matriz em que quero organizar os objetos. No caso, como temos 25 quadrados, o _shape_ $(x, y)$ deve ser tal que a multiplicação de x com y resulte em 25. O argumento _buff_ é o distanciamento dos elementos, que pode ser tomado como um _float_ individual, ou como uma tupla de _floats_, especificando os espaçamentos horizontal e vertical."
   ]
  },
  {
   "cell_type": "markdown",
   "metadata": {},
   "source": [
    "#### 2.3 Adicionando e removendo elementos"
   ]
  },
  {
   "cell_type": "markdown",
   "metadata": {},
   "source": [
    "Podemos adicionar ou remover elementos de cena com os métodos `.add()` e `.remove()`. Também podemos manipular a ordem dos objetos na cena:\n",
    "\n",
    "- `self.bring_to_front(MObject)`: traz o objeto para frente de outros objetos em cena.\n",
    "- `self.bring_to_back(MObject)`: leva o objeto para trás."
   ]
  },
  {
   "cell_type": "code",
   "execution_count": 3,
   "metadata": {},
   "outputs": [],
   "source": [
    "class AddRemoveEx(Scene):\n",
    "    def construct(self):\n",
    "\n",
    "        square = Square(color = GREEN, fill_opacity = 1)\n",
    "        triangle = Triangle(color = BLUE, fill_opacity = 1).scale(.5).move_to(square)\n",
    "\n",
    "        self.play(Write(square))        \n",
    "\n",
    "        # Adiciona o triângulo atrás do quadrado\n",
    "        self.bring_to_back(triangle)\n",
    "        self.play(square.animate.shift(LEFT * 2))\n",
    "\n",
    "        # Adicionar um círculo à cena e movê-lo para a posição atual do quadrado\n",
    "        circle = Circle(color = RED, fill_opacity = 1).scale(.5).move_to(square)\n",
    "\n",
    "        # Levar o círculo para trás na cena \n",
    "        self.bring_to_back(circle) \n",
    "        self.play(square.animate.shift(RIGHT * 2))\n",
    "\n",
    "        square2 = Square(color = WHITE, fill_opacity = 1).scale(.5).move_to(square)\n",
    "\n",
    "        # Remover o triângulo da cena\n",
    "        self.remove(triangle)\n",
    "\n",
    "        # Adiciona um segundo quadrado na frente do outro quadrado \n",
    "        # (animação feia, mas só para mostrar funcionalidade)\n",
    "        self.bring_to_front(square2)\n",
    "\n",
    "        self.play(square.animate.shift(RIGHT * 2))"
   ]
  },
  {
   "cell_type": "code",
   "execution_count": 4,
   "metadata": {},
   "outputs": [
    {
     "name": "stderr",
     "output_type": "stream",
     "text": [
      "                                                                                      \r"
     ]
    },
    {
     "data": {
      "text/html": [
       "<video src=\"media\\jupyter\\AddRemoveEx@2024-01-14@18-27-57.mp4\" controls autoplay loop style=\"max-width: 60%;\"  >\n",
       "      Your browser does not support the <code>video</code> element.\n",
       "    </video>"
      ],
      "text/plain": [
       "<IPython.core.display.Video object>"
      ]
     },
     "metadata": {},
     "output_type": "display_data"
    }
   ],
   "source": [
    "%manim -qm -v warning AddRemoveEx"
   ]
  },
  {
   "cell_type": "markdown",
   "metadata": {},
   "source": [
    "Os objetos em cena são renderizados de acordo com a ordem em que aparecem no código, de maneira bem intuitiva. O primeiro objeto aparece na tela e, se outro objeto for criado depois dele, ele será criado em cima desse primeiro. Contudo, podemos manipular essa ordem pelo `z_index` do objeto (que nada tem a ver com o eixo coordenado)."
   ]
  },
  {
   "cell_type": "code",
   "execution_count": 49,
   "metadata": {},
   "outputs": [],
   "source": [
    "class zIndexEx(Scene):\n",
    "    def construct(self):\n",
    "\n",
    "        c1 = Circle(color = RED, fill_opacity = 1).shift(RIGHT)\n",
    "        c2 = Circle(color = BLUE, fill_opacity = 1)\n",
    "        c3 = Circle(color = GREEN, fill_opacity = 1).shift(LEFT)\n",
    "\n",
    "        tex_c1 = Tex('c1').next_to(c1, UP)\n",
    "        tex_c2 = Tex('c2').next_to(c2, UP)\n",
    "        tex_c3 = Tex('c3').next_to(c3, UP)\n",
    "\n",
    "        texts = VGroup(tex_c1, tex_c2, tex_c3)\n",
    "        title = Tex('Ordem dos objetos').next_to(texts, UP)\n",
    "\n",
    "        # c3 na frente pela ordem de criação\n",
    "        self.add(c1, c2, c3, tex_c1.set_opacity(.5), tex_c2.set_opacity(.5), tex_c3.set_opacity(1), title)\n",
    "\n",
    "        self.wait(1.5)\n",
    "\n",
    "        # c2 na frente dos outros objetos: c2(z = 1), c3 e c1 (z = 0)\n",
    "        c2.set_z_index(1)\n",
    "\n",
    "        self.add(tex_c1.set_opacity(.5), tex_c2.set_opacity(1), tex_c3.set_opacity(.5))\n",
    "\n",
    "        self.wait(1.5)\n",
    "\n",
    "        # c1 na frente dos outros objetos: c1 (z = 2), c2 (z = 1), c3 (z = 0)\n",
    "        c1.set_z_index(2)\n",
    "\n",
    "        self.add(tex_c1.set_opacity(1), tex_c2.set_opacity(.5), tex_c3.set_opacity(.5))\n",
    "\n",
    "        self.wait(1.5)"
   ]
  },
  {
   "cell_type": "code",
   "execution_count": 50,
   "metadata": {},
   "outputs": [
    {
     "data": {
      "text/html": [
       "<video src=\"media\\jupyter\\zIndexEx@2024-01-14@23-39-57.mp4\" controls autoplay loop style=\"max-width: 60%;\"  >\n",
       "      Your browser does not support the <code>video</code> element.\n",
       "    </video>"
      ],
      "text/plain": [
       "<IPython.core.display.Video object>"
      ]
     },
     "metadata": {},
     "output_type": "display_data"
    }
   ],
   "source": [
    "%manim -qm -v warning zIndexEx"
   ]
  }
 ],
 "metadata": {
  "kernelspec": {
   "display_name": ".venv",
   "language": "python",
   "name": "python3"
  },
  "language_info": {
   "codemirror_mode": {
    "name": "ipython",
    "version": 3
   },
   "file_extension": ".py",
   "mimetype": "text/x-python",
   "name": "python",
   "nbconvert_exporter": "python",
   "pygments_lexer": "ipython3",
   "version": "3.11.4"
  }
 },
 "nbformat": 4,
 "nbformat_minor": 2
}

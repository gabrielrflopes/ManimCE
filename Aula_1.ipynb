{
 "cells": [
  {
   "cell_type": "markdown",
   "metadata": {},
   "source": [
    "## ManimCE Descomplicado\n",
    "\n",
    "## Aula 1 - Introdução ao Manim"
   ]
  },
  {
   "cell_type": "markdown",
   "metadata": {},
   "source": [
    "Animações valem mais do que mil imagens. De certa forma, isso é verdade quantitativamente falando, já que cada animação pode ser composta de diversas imagens estáticas que compõem um frame. Porém, do ponto de vista do aprendizado e assimilação de conteúdo, animações ganham também num sentido qualitativo. Por isso, aprender a criar animações de maneira programática, utilizando o Python, é dispor de uma ferramenta poderosa.\n",
    "\n",
    "O Manim é uma biblioteca de animações matemáticas, criada por Grant Sanderson, fundador do canal 3Blue1Brown. Com essa ferramenta, podemos construir cenários para explicar teorias e conceitos complexos, utilizando para isso, uma programação orientada a objetos matemáticos, como formas, vetores, gráficos, etc.\n",
    "\n",
    "Nesta aula, você aprenderá o básico para criar as primeiras animações, utilizando formas, fazendo-as aparecer e desaparecer na tela, além de começar a acostumar com a sintaxe da biblioteca."
   ]
  },
  {
   "cell_type": "markdown",
   "metadata": {},
   "source": [
    "### Informações Preliminares\n",
    "\n",
    "- Importante conhecer o básico de **Python** e da línguagem de programação de texto $\\TeX$. Irei explicando o código ao longo das aulas, mas facilitaria o acompanhamento dos conceitos ter essas noções básicas.\n",
    "- Instalar o Manim, seguindo as instruções [aqui](https://docs.manim.community/en/stable/installation.html).\n",
    "- Salve a página da [documentação oficial](https://docs.manim.community/en/stable/index.html) do Manim."
   ]
  },
  {
   "cell_type": "markdown",
   "metadata": {},
   "source": [
    "### Primeiras Animações\n",
    "\n",
    "O ambiente de animações do Manim consiste das cenas, implementadas pela classe `Scene` do Python. Cada uma das cenas é desenvolvida criando uma função com o método `construct`, que irá carregar as informações próprias da cena (`self`) e como ela irá evoluir.\n",
    "\n",
    "Vamos começar com um primeiro exemplo:\n"
   ]
  },
  {
   "cell_type": "code",
   "execution_count": 1,
   "metadata": {},
   "outputs": [
    {
     "data": {
      "text/html": [
       "<pre style=\"white-space:pre;overflow-x:auto;line-height:normal;font-family:Menlo,'DejaVu Sans Mono',consolas,'Courier New',monospace\">Manim Community <span style=\"color: #008000; text-decoration-color: #008000\">v0.17.3</span>\n",
       "\n",
       "</pre>\n"
      ],
      "text/plain": [
       "Manim Community \u001b[32mv0.\u001b[0m\u001b[32m17.3\u001b[0m\n",
       "\n"
      ]
     },
     "metadata": {},
     "output_type": "display_data"
    }
   ],
   "source": [
    "from manim import *"
   ]
  },
  {
   "cell_type": "code",
   "execution_count": 2,
   "metadata": {},
   "outputs": [],
   "source": [
    "# Importação dos atributos do ManimCE\n",
    "from manim import Square, Circle, FadeIn, FadeOut, Write, Unwrite\n",
    "\n",
    "# Construção da cena\n",
    "class Intro(Scene):\n",
    "    def construct(self):\n",
    "\n",
    "        sq = Square(side_length = 2, color = BLUE).shift(LEFT * 2)\n",
    "        circ = Circle(color = RED).shift(RIGHT * 2)\n",
    "\n",
    "        self.play(Write(sq), FadeIn(circ), run_time = 1)\n",
    "        self.wait()\n",
    "\n",
    "        self.play(FadeOut(sq), Unwrite(circ), run_time = 1.5)\n",
    "        self.wait()"
   ]
  },
  {
   "cell_type": "markdown",
   "metadata": {},
   "source": [
    "Para renderizar o vídeo, utilizamos o comando `%manim -qm -v warning Intro`, onde:\n",
    "\n",
    "- `q` estabelece a qualidade da renderização, que no caso é definida como média `m` (mas pode ser também baixa `l`, alta `h` ou 4K `k`).\n",
    "- `v` é um parâmetro de verbosidade, para não exibir mensagens de debug ou informações de bastidores da renderização. Escolhemos `warning` para exibir avisos, caso existam.\n",
    "- Por fim, é inserido o nome da cena, no caso `Intro`.\n",
    "\n",
    "Para mais informações sobre a renderização de cenas no ManimCE, acesse:\n",
    "\n",
    "- [ManimMagic](https://docs.manim.community/en/stable/reference/manim.utils.ipython_magic.ManimMagic.html)\n",
    "- [Manim Configuration](https://docs.manim.community/en/stable/guides/configuration.html)"
   ]
  },
  {
   "cell_type": "code",
   "execution_count": 3,
   "metadata": {},
   "outputs": [
    {
     "name": "stderr",
     "output_type": "stream",
     "text": [
      "                                                                       "
     ]
    },
    {
     "name": "stderr",
     "output_type": "stream",
     "text": [
      "                                                                         \r"
     ]
    },
    {
     "data": {
      "text/html": [
       "<video src=\"media\\jupyter\\Intro@2024-01-12@23-57-57.mp4\" controls autoplay loop style=\"max-width: 60%;\"  >\n",
       "      Your browser does not support the <code>video</code> element.\n",
       "    </video>"
      ],
      "text/plain": [
       "<IPython.core.display.Video object>"
      ]
     },
     "metadata": {},
     "output_type": "display_data"
    }
   ],
   "source": [
    "%manim -qm -v warning Intro"
   ]
  },
  {
   "cell_type": "markdown",
   "metadata": {},
   "source": [
    "#### Destrinchando o código\n",
    "\n",
    "Primeiramente, instaciamos os objetos do quadrado (`Square`) e do círculo (`Circle`). Nos argumentos do objeto, podemos personalizar seus atributos, como tamanho do lado ou raio do círculo, além de escolher as cores dos objetos. Outras constantes que podemos utilizar, além da cor, é a direção em que queremos posicionar o objeto. Para isso, utilizamos constantes como `LEFT, RIGHT, UP, DOWN` que indicam direção.\n",
    "\n",
    "> Veja aqui uma lista de [cores](https://docs.manim.community/en/stable/reference/manim.utils.color.manim_colors.html) e [outras constantes](https://docs.manim.community/en/stable/reference/manim.constants.html).\n",
    "\n",
    "O método `shift` é aplicado sobre o objeto depois de criado, e faz com que ele se mova para a direção especificada. Como as constantes de direção são _arrays_ Numpy, é possível realizar operações com eles, como somar, subtrair e multiplicar. Por exemplo: `obj.shift(RIGHT + UP * 1.5)`.\n",
    "\n",
    "Por fim, o método `self.play()` espera sempre um número não-nulo de animações para realizar. Cada `self.play()` corresponde a um conjunto de animações que serão construídas consecutivamente. Assim, primeiro criamos os objetos, utilizando as animações `Write` e `FadeIn`, e depois fizemos as animações para sumir com os objetos, com `Unwrite` e `FadeOut`. O parâmetro `run_time` é opcional e diz a duração da animação, definida por padrão em 1 segundo, mas que pode ser personalizada para qualquer tempo."
   ]
  },
  {
   "cell_type": "markdown",
   "metadata": {},
   "source": [
    "### Sintaxe `animate`"
   ]
  },
  {
   "cell_type": "markdown",
   "metadata": {},
   "source": [
    "Além de fazer objetos aparecerem e desaparecem na tela, nós queremos também animar seus atributos, como cor, tamanho, posição e orientação. Algumas funções, como o `shift`, conseguem manipular esses atributos, mas não o fazem de maneira animada. Para isso, temos a sintaxe `animate`, que é colocada logo após o objeto que queremos animar e no contexto do método `self.play()`. \n",
    "\n",
    "A seguir, vamos trabalhar a primeira animação com a atuação da sintaxe `animate`."
   ]
  },
  {
   "cell_type": "code",
   "execution_count": 4,
   "metadata": {},
   "outputs": [
    {
     "ename": "NameError",
     "evalue": "name 'Scene' is not defined",
     "output_type": "error",
     "traceback": [
      "\u001b[1;31m---------------------------------------------------------------------------\u001b[0m",
      "\u001b[1;31mNameError\u001b[0m                                 Traceback (most recent call last)",
      "Cell \u001b[1;32mIn[4], line 4\u001b[0m\n\u001b[0;32m      1\u001b[0m \u001b[38;5;28;01mfrom\u001b[39;00m \u001b[38;5;21;01mmanim\u001b[39;00m \u001b[38;5;28;01mimport\u001b[39;00m Square, Circle, FadeIn, FadeOut, Write, Unwrite\n\u001b[0;32m      3\u001b[0m \u001b[38;5;66;03m# Construção da cena\u001b[39;00m\n\u001b[1;32m----> 4\u001b[0m \u001b[38;5;28;01mclass\u001b[39;00m \u001b[38;5;21;01mIntro_2\u001b[39;00m(\u001b[43mScene\u001b[49m):\n\u001b[0;32m      5\u001b[0m     \u001b[38;5;28;01mdef\u001b[39;00m \u001b[38;5;21mconstruct\u001b[39m(\u001b[38;5;28mself\u001b[39m):\n\u001b[0;32m      7\u001b[0m         square \u001b[38;5;241m=\u001b[39m Square(side_length \u001b[38;5;241m=\u001b[39m \u001b[38;5;241m2\u001b[39m, color \u001b[38;5;241m=\u001b[39m BLUE)\u001b[38;5;241m.\u001b[39mshift(LEFT \u001b[38;5;241m*\u001b[39m \u001b[38;5;241m2\u001b[39m)\n",
      "\u001b[1;31mNameError\u001b[0m: name 'Scene' is not defined"
     ]
    }
   ],
   "source": [
    "from manim import Square, Circle, FadeIn, FadeOut, Write, Unwrite\n",
    "\n",
    "# Construção da cena\n",
    "class Intro_2(Scene):\n",
    "    def construct(self):\n",
    "\n",
    "        square = Square(side_length = 2, color = BLUE).shift(LEFT * 2)\n",
    "        circle = Circle(color = RED).shift(RIGHT * 2)\n",
    "\n",
    "        # Animação 1\n",
    "        self.play(Write(square), FadeIn(circle), run_time = 1)\n",
    "        self.wait()\n",
    "\n",
    "        # Animação 2\n",
    "        self.play(\n",
    "            square.animate.shift(UP + RIGHT),\n",
    "            circle.animate.shift(DOWN + LEFT)\n",
    "        )\n",
    "\n",
    "        # Animação 3\n",
    "        self.play(\n",
    "            square.animate.rotate(3 * PI / 2).set_fill(BLUE, opacity = .8),\n",
    "            circle.animate.scale(2).set_fill(RED, opacity = 1)\n",
    "        )\n",
    "\n",
    "        # Animação 4\n",
    "        self.play(\n",
    "            square.animate.set_color(ORANGE),\n",
    "            circle.animate.set_color(GREEN)\n",
    "        )\n",
    "        self.wait()\n",
    "\n",
    "        # Animação 5\n",
    "        self.play(Unwrite(square), Unwrite(circle), run_time = 1.5)\n",
    "        self.wait()"
   ]
  },
  {
   "cell_type": "code",
   "execution_count": 12,
   "metadata": {},
   "outputs": [
    {
     "name": "stderr",
     "output_type": "stream",
     "text": [
      "                                                                                  \r"
     ]
    },
    {
     "data": {
      "text/html": [
       "<video src=\"media\\jupyter\\Intro_2@2024-01-09@14-35-43.mp4\" controls autoplay loop style=\"max-width: 60%;\"  >\n",
       "      Your browser does not support the <code>video</code> element.\n",
       "    </video>"
      ],
      "text/plain": [
       "<IPython.core.display.Video object>"
      ]
     },
     "metadata": {},
     "output_type": "display_data"
    }
   ],
   "source": [
    "%manim -qm -v warning Intro_2"
   ]
  },
  {
   "cell_type": "markdown",
   "metadata": {},
   "source": [
    "#### Destrinchando o código\n",
    "\n",
    "Vamos analisar agora cada uma das animações que criamos nesse código. \n",
    "\n",
    "- **Animação 1**: Idêntica à da primeira animação, apenas criamos os objetos na cena utilizando as funções `Write` e `FadeIn`. Explicitei o `run_time` para que durasse 1 segundo (padrão) e, em seguida, pedi para que a cena pausasse por 1 segundo com `self.wait()`.\n",
    "- **Animação 2**: Nossa primeira implementação da sintaxe `animate`, pedi para que os objetos fossem deslocados de suas posições originais. O quadrado foi movido para cima e para a direita e o círculo para baixo e à esquerda. Tudo isso foi feito dentro de um `self.play()`, significando que as animações ocorrem ao mesmo tempo.\n",
    "- **Animação 3**: Seguindo a implementação da sintaxe `animate`, agora rotacionamos e dimensionamos os objetos, além de preenchê-los com cor. Note que após instanciar o `animate` depois do objeto, eu posso inserir vários atributos que eu gostaria de ver animados em sequência.\n",
    "- **Animação 4**: Nessa animação, alterei a cor de preenchimento dos objetos, utilizando o método `set_color()`. Novamente, implementei as animações dentro de um único `self.play()`.\n",
    "- **Animação 5**: Por fim, apenas utilizei o `self.play()` para remover os objetos da cena, com a função `Unwrite` e um `run_time` de 1,5 segundo.\n",
    "\n",
    "Essa cena reúne diversas propriedades que um objeto tem e implementa animações sobre eles. Note como é possível fazer uma cadeia de animações utilizando apenas a sintaxe `animate` após o objeto. O único cuidado é não implementar animações que se contradizem, como mover um objeto para cima e para baixo ao mesmo tempo, por exemplo."
   ]
  },
  {
   "cell_type": "markdown",
   "metadata": {},
   "source": [
    "### Alinhando objetos"
   ]
  },
  {
   "cell_type": "markdown",
   "metadata": {},
   "source": [
    "Nós vimos anteriormente que o método `shift` move o objeto para um novo ponto, de acordo com a direção indicada, se é para cima, para baixo, esquerda ou direita. Porém, algumas vezes será mais útil movê-lo com relação a outros objetos na cena, isto é, alinhando esses objetos ao longo de algum eixo ou posição específica.\n",
    "\n",
    "Para isso, temos alguns métodos que aplicam mudanças na direção dos objetos, como: `next_to`, `move_to` e `align_to`"
   ]
  },
  {
   "cell_type": "markdown",
   "metadata": {},
   "source": [
    "#### `NEXT_TO`"
   ]
  },
  {
   "cell_type": "markdown",
   "metadata": {},
   "source": [
    "Para mover um objeto de modo que ele fique próximo a outro, utilizamos o método `next_to`."
   ]
  },
  {
   "cell_type": "code",
   "execution_count": 13,
   "metadata": {},
   "outputs": [],
   "source": [
    "from manim import *\n",
    "\n",
    "class NextTo(Scene):\n",
    "    def construct(self):\n",
    "        \n",
    "        # Criando os objetos dos círculos com unpacking e list comprehension\n",
    "        c1, c2, c3, c4 = [Circle(radius = .5, color = WHITE) \n",
    "                          for _ in range(4)]\n",
    "        \n",
    "\n",
    "        rect = Rectangle(width = 5, height = 2)\n",
    "\n",
    "        # Animação 1\n",
    "        self.play(*[Write(obj) for obj in [c1, c2, c3, c4, rect]], \n",
    "                  run_time = 1.5)\n",
    "\n",
    "        # Animação 2\n",
    "        self.play(\n",
    "            c1.animate.next_to(rect, LEFT),\n",
    "            c2.animate.next_to(rect, UP),\n",
    "            c3.animate.next_to(rect, RIGHT),\n",
    "            c4.animate.next_to(rect, DOWN),\n",
    "            run_time = 1.5\n",
    "        )\n",
    "        self.wait()"
   ]
  },
  {
   "cell_type": "markdown",
   "metadata": {},
   "source": [
    "No código acima, criamos 4 círculos e um retângulo, com duas animações envolvendo esses objetos. \n",
    "\n",
    "Na primeira, temos a criação de cada objeto com a função `Write()`. O asterisco \\* é usado para desempacotar os elementos lista (em inglês, _unpack list comprehension_). Isto permite que os elementos da lista sejam passados como argumentos separados para a função `self.play()`. A função `Write` é aplicada para cada objeto (_c1, c2, c3, c4, rect_) e o asterisco \\* é usado para passar cada animação resultante como sendo um argumento separado para o `self.play()`.\n",
    "\n",
    "Em outras palavras, essa é uma maneira concisa de escrever `self.play(Write(c1), Write(c2), Write(c3), Write(c4), Write(rect), run_time=1.5)` e, às vezes, é até mais conveniente escrever assim quando se tem uma lista com muitos objetos para a cena.\n",
    "\n",
    "A segunda animação consiste apenas da aplicação da sintaxe de animação sobre os objetos dos círculos, seguida do método `next_to` para posicioná-los **próximos ao** retângulo. Note que no argumento, eu especifiquei qual objeto eu quero ficar próximo e em qual direção."
   ]
  },
  {
   "cell_type": "code",
   "execution_count": 14,
   "metadata": {},
   "outputs": [
    {
     "name": "stderr",
     "output_type": "stream",
     "text": [
      "                                                                                  \r"
     ]
    },
    {
     "data": {
      "text/html": [
       "<video src=\"media\\jupyter\\NextTo@2024-01-09@14-35-50.mp4\" controls autoplay loop style=\"max-width: 60%;\"  >\n",
       "      Your browser does not support the <code>video</code> element.\n",
       "    </video>"
      ],
      "text/plain": [
       "<IPython.core.display.Video object>"
      ]
     },
     "metadata": {},
     "output_type": "display_data"
    }
   ],
   "source": [
    "%manim -qm -v warning NextTo"
   ]
  },
  {
   "cell_type": "markdown",
   "metadata": {},
   "source": [
    "#### `MOVE_TO`"
   ]
  },
  {
   "cell_type": "markdown",
   "metadata": {},
   "source": [
    "O método `move_to` é utilizado para mover o centro de um objeto para determinado ponto."
   ]
  },
  {
   "cell_type": "code",
   "execution_count": 15,
   "metadata": {},
   "outputs": [],
   "source": [
    "from manim import *\n",
    "\n",
    "class MoveTo(Scene):\n",
    "    def construct(self):\n",
    "        \n",
    "        # Criando os objetos dos quadrados\n",
    "        s1, s2, s3 = [Square() for _ in range(3)]\n",
    "        \n",
    "        # Desenhando os objetos na cena\n",
    "        self.play(*[Write(obj) for obj in [s1, s2, s3]])\n",
    "\n",
    "        # Posicionando os quadrados s1 e s3 próximos de s2\n",
    "        self.play(\n",
    "            s1.animate.next_to(s2, LEFT),\n",
    "            s3.animate.next_to(s2, RIGHT),\n",
    "            run_time = 1.5\n",
    "        )\n",
    "        \n",
    "        # Criando os elementos de texto com a função Tex\n",
    "        t1, t2, t3 = [Tex(f'${i}$').scale(3) for i in range(3)]\n",
    "\n",
    "        # Movendo os textos para os quadrados respectivos\n",
    "        t1.move_to(s1)\n",
    "        t2.move_to(s2)\n",
    "        t3.move_to(s3)\n",
    "\n",
    "        # Criando a cena com os quadrados e o texto dentro\n",
    "        self.play(*[Write(obj) for obj in [t1, t2, t3]])\n",
    "        self.wait()"
   ]
  },
  {
   "cell_type": "code",
   "execution_count": 16,
   "metadata": {},
   "outputs": [
    {
     "name": "stderr",
     "output_type": "stream",
     "text": [
      "                                                                                \r"
     ]
    },
    {
     "data": {
      "text/html": [
       "<video src=\"media\\jupyter\\MoveTo@2024-01-09@14-35-57.mp4\" controls autoplay loop style=\"max-width: 60%;\"  >\n",
       "      Your browser does not support the <code>video</code> element.\n",
       "    </video>"
      ],
      "text/plain": [
       "<IPython.core.display.Video object>"
      ]
     },
     "metadata": {},
     "output_type": "display_data"
    }
   ],
   "source": [
    "%manim -qm -v warning MoveTo"
   ]
  },
  {
   "cell_type": "markdown",
   "metadata": {},
   "source": [
    "Nessa animação, utilizamos uma combinação de funções para posicionar o objeto. O `next_to` foi usado para alinhar os quadrados após eles terem sido desenhados na cena. O `move_to` foi usado para posicionar os centros dos textos no interior dos quadrados, antes mesmo que fossem adicionado à cena. Assim, ao final, criamos uma animação para desenhar o texto na posição que foi determinada.\n",
    "\n",
    "Utilizamos o método `scale()` sobre o texto, que faz aumentar o tamanho do objeto em questão. Além disso, continuamos utilizando da _list comprehension_ para desempacotar variáveis e iterar a criação de vários objetos e animações."
   ]
  },
  {
   "cell_type": "markdown",
   "metadata": {},
   "source": [
    "#### `ALIGN_TO`"
   ]
  },
  {
   "cell_type": "markdown",
   "metadata": {},
   "source": [
    "O método `align_to` é usada após o objeto e, analogamente aos outros métodos como `next_to` e `move_to`, ele modifica a posição do objeto de alguma forma. No caso, como o próprio nome sugere, esse método serve para alinhar o objeto em uma determinada direção, que pode ser definida por um vetor ou por outro objeto na cena. \n",
    "\n",
    "Por exemplo, se tenho na cena um quadrado e um círculo, e quero alinhar o círculo a uma das arestas do quadrado, basta utilizar o `align_to` da seguinte forma:"
   ]
  },
  {
   "cell_type": "code",
   "execution_count": 32,
   "metadata": {},
   "outputs": [],
   "source": [
    "from manim import * \n",
    "\n",
    "class AlignToEx1(Scene):\n",
    "    def construct(self):\n",
    "\n",
    "        sq = Square(side_length = 4)\n",
    "        circ = Circle(radius = 1)\n",
    "\n",
    "        self.play(*[Write(obj) for obj in [sq, circ]])\n",
    "\n",
    "        self.play(\n",
    "            circ.animate.align_to(sq, UP)\n",
    "        )\n",
    "        self.wait()\n",
    "\n",
    "        self.play(*[Unwrite(obj) for obj in [sq, circ]])"
   ]
  },
  {
   "cell_type": "code",
   "execution_count": 33,
   "metadata": {},
   "outputs": [
    {
     "name": "stderr",
     "output_type": "stream",
     "text": [
      "                                                                            "
     ]
    },
    {
     "name": "stderr",
     "output_type": "stream",
     "text": [
      "                                                                                   \r"
     ]
    },
    {
     "data": {
      "text/html": [
       "<video src=\"media\\jupyter\\AlignToEx1@2024-01-09@14-38-21.mp4\" controls autoplay loop style=\"max-width: 60%;\"  >\n",
       "      Your browser does not support the <code>video</code> element.\n",
       "    </video>"
      ],
      "text/plain": [
       "<IPython.core.display.Video object>"
      ]
     },
     "metadata": {},
     "output_type": "display_data"
    }
   ],
   "source": [
    "%manim -qm -v warning AlignToEx1"
   ]
  },
  {
   "cell_type": "markdown",
   "metadata": {},
   "source": [
    "Na animação acima, apenas criamos os objetos e animamos o círculo de modo que seu perímetro se alinhasse com a aresta superior do quadrado. No código abaixo, iremos fazer uso dos três métodos para posicionamento que aprendemos, para ver como eles podem trabalhar juntos. Assim, também fazemos uma recapitulação das funções que eles têm:\n",
    "\n",
    "- `next_to` - Traz determinado objeto próximo a algum ponto ou a algum outro objeto em cena.\n",
    "- `move_to` - Move a coordenada do centro do objeto para determinado ponto na cena.\n",
    "- `align_to` - Alinha um objeto em alguma direção especificada, com relação a um ponto ou a outro objeto em cena.\n",
    "\n",
    "Vamos agora criar uma cena mais complexa para manipular esses métodos em conjunto."
   ]
  },
  {
   "cell_type": "code",
   "execution_count": 34,
   "metadata": {},
   "outputs": [],
   "source": [
    "from manim import *\n",
    "\n",
    "class AlignToEx2(Scene):\n",
    "    def construct(self):\n",
    "\n",
    "        # Criando os objetos dos círculos com variação do raio\n",
    "        c1, c2, c3 = [Circle(radius = 1.5 - i/3, color = WHITE) \n",
    "                      for i in range(3)]\n",
    "        \n",
    "        '''\n",
    "        Criamos três círculos utilizando o unpacking iterável de variáveis e\n",
    "        os artifícios de list comprehension do Python. O primeiro círculo\n",
    "        terá um raio de 1.5, o segundo terá raio 1.5 - 1/3 e o terceiro \n",
    "        de 1.5 - 2/3.\n",
    "        '''\n",
    "        \n",
    "        # Desenhar os objetos na tela\n",
    "        self.play(*[Write(obj) for obj in [c1, c2, c3]])\n",
    "\n",
    "        # Animando os círculos para eles se posicionarem um ao lado do outro\n",
    "        self.play(\n",
    "            c1.animate.next_to(c2, LEFT),\n",
    "            c3.animate.next_to(c2, RIGHT),\n",
    "        )\n",
    "\n",
    "        '''\n",
    "        Posicionamos o círculo c1 à esquerda do círculo c2, e o círculo c3 à direita.\n",
    "        O resultado foi um círculo do lado do outro, com o c2 no centro.\n",
    "        '''\n",
    "\n",
    "        point_1 = [-1, 0, 0]\n",
    "\n",
    "        # Animando os círculos para alinharem à direita com relação ao ponto 1\n",
    "        self.play(\n",
    "            c1.animate.align_to(point_1, RIGHT),\n",
    "            c2.animate.align_to(point_1, RIGHT),\n",
    "            c3.animate.align_to(point_1, RIGHT),\n",
    "        )\n",
    "\n",
    "        '''\n",
    "        O método align_to pode ser usado para alinhar um objeto com relação a um\n",
    "        ponto qualquer na cena. No caso, alinhamos todos os círculos à direita \n",
    "        do point_1 que criamos.\n",
    "        '''\n",
    "\n",
    "\n",
    "        # Movendo o centro dos círculos com a origem da cena\n",
    "        self.play(\n",
    "            c1.animate.move_to(ORIGIN),\n",
    "            c2.animate.move_to(ORIGIN),\n",
    "            c3.animate.move_to(ORIGIN)\n",
    "        )\n",
    "\n",
    "        '''\n",
    "        O move_to move o centro dos objetos à algum ponto na cena. No caso\n",
    "        escolhemos mover os círculos para a origem do sistema de coordenadas\n",
    "        da cena, que no caso é o centro da tela.\n",
    "        '''\n",
    "\n",
    "        point_2 = [0, 1, 0]\n",
    "\n",
    "        # Animando os círculos para alinharem com relação ao ponto 2\n",
    "        self.play(\n",
    "            c1.animate.align_to(point_2, DOWN),\n",
    "            c2.animate.align_to(point_2, DOWN),\n",
    "            c3.animate.align_to(point_2, DOWN)\n",
    "        )\n",
    "        \n",
    "        '''\n",
    "        Alinhamos os círculos com relação ao point_2, o ponto criado por nós\n",
    "        que está localizado uma unidade positiva no eixo-y. Os círculos foram\n",
    "        alinhados pela parte de baixo dos seus perímetros.\n",
    "        '''\n",
    "\n",
    "\n",
    "        # Retornando os círculos para a origem\n",
    "        self.play(\n",
    "            c1.animate.move_to(ORIGIN),\n",
    "            c2.animate.move_to(ORIGIN),\n",
    "            c3.animate.move_to(ORIGIN)\n",
    "        )\n",
    "        \n",
    "        # Removendo os círculos da cena\n",
    "        self.play(*[Unwrite(obj) for obj in [c1, c2, c3]])\n",
    "\n",
    "        self.wait()"
   ]
  },
  {
   "cell_type": "code",
   "execution_count": 36,
   "metadata": {},
   "outputs": [
    {
     "name": "stderr",
     "output_type": "stream",
     "text": [
      "                                                                                            \r"
     ]
    },
    {
     "data": {
      "text/html": [
       "<video src=\"media\\jupyter\\AlignToEx2@2024-01-09@14-40-28.mp4\" controls autoplay loop style=\"max-width: 60%;\"  >\n",
       "      Your browser does not support the <code>video</code> element.\n",
       "    </video>"
      ],
      "text/plain": [
       "<IPython.core.display.Video object>"
      ]
     },
     "metadata": {},
     "output_type": "display_data"
    }
   ],
   "source": [
    "%manim -qm -v warning AlignToEx2"
   ]
  },
  {
   "cell_type": "markdown",
   "metadata": {},
   "source": [
    "#### Trabalhando textos e linguagem matemática"
   ]
  },
  {
   "cell_type": "markdown",
   "metadata": {},
   "source": [
    "O ManimCE possui suporte para animar objetos de texto e até mesmo fórmulas matemáticas, através do $\\LaTeX$. Abaixo, você pode ver um exemplo simples de como utilizar os elementos de texto na cena, assim como os textos matemáticos usados em fórmulas.\n",
    "\n",
    "Para inserir um texto, utilizamos a função `Tex()` e armazenamos numa variável. Para escrever uma fórmula matemática, utilizamos a função `MathTex()`, que habilita a formatação com $\\LaTeX$. \n",
    "\n",
    "> No Manim, utilizamos o _'r'_ antes de uma _string_ para indicar que se trata de uma *raw string*. Com *raw strings*, o Python interpreta a barra como um caractere literal, e não como um caractere especial, usado por exemplo no contexto de chamar uma nova linha (*\\n*) ou tab (*\\t*). Como o LaTeX necessita do uso literal da barra para representar os símbolos matemáticos, precisamos utilizar o *'r'* antes da *string* ou, alternativamente, podemos colocar apenas duas barras ao escrever a *string*: `'\\\\vec{F}'`"
   ]
  },
  {
   "cell_type": "code",
   "execution_count": 138,
   "metadata": {},
   "outputs": [],
   "source": [
    "from manim import *\n",
    "\n",
    "class TextAndMath(Scene):\n",
    "    def construct(self):\n",
    "\n",
    "        text = Tex('Segunda Lei de Newton').shift(UP)\n",
    "\n",
    "        formula = MathTex(r'\\vec{F} = m\\frac{d^{2}\\vec{r}}{dt^{2}}')\n",
    "\n",
    "        self.play(Write(text, run_time = .8), Write(formula))\n",
    "\n",
    "        self.wait()\n",
    "\n",
    "        self.play(*[FadeOut(obj) for obj in [text, formula]])"
   ]
  },
  {
   "cell_type": "code",
   "execution_count": 139,
   "metadata": {},
   "outputs": [
    {
     "name": "stderr",
     "output_type": "stream",
     "text": [
      "                                                                                                         \r"
     ]
    },
    {
     "data": {
      "text/html": [
       "<video src=\"media\\jupyter\\TextAndMath@2024-01-03@18-22-59.mp4\" controls autoplay loop style=\"max-width: 60%;\"  >\n",
       "      Your browser does not support the <code>video</code> element.\n",
       "    </video>"
      ],
      "text/plain": [
       "<IPython.core.display.Video object>"
      ]
     },
     "metadata": {},
     "output_type": "display_data"
    }
   ],
   "source": [
    "%manim -qm -v warning TextAndMath"
   ]
  },
  {
   "cell_type": "markdown",
   "metadata": {},
   "source": [
    "## Desafio #1 - Algoritmo de embaralhamento"
   ]
  },
  {
   "cell_type": "markdown",
   "metadata": {},
   "source": [
    "O primeiro desafio é criar uma animação de embaralhamento (_Shuffle_).\n",
    "\n",
    "Para isso, vamos utilizar a função `Swap()`, que troca a posição de dois objetos em cena. Dentro dessa função, o parâmetro `path_arc` define o ângulo do arco de circunferência durante a troca. Ele é útil para melhor visualizar a animação.\n",
    "\n",
    "Vamos começar com animações básicas para o desafio."
   ]
  },
  {
   "cell_type": "code",
   "execution_count": 109,
   "metadata": {},
   "outputs": [],
   "source": [
    "from manim import *\n",
    "from random import *\n",
    "\n",
    "class TestShuffle(Scene):\n",
    "    def construct(self):\n",
    "\n",
    "        n = 4\n",
    "\n",
    "        circles = VGroup(*[Circle().scale(.6) for _ in range(n)])\n",
    "\n",
    "        circles.arrange_in_grid(2, 2, buff = .8)\n",
    "\n",
    "        self.play(*[Write(obj) for obj in circles])\n",
    "\n",
    "        self.wait()\n",
    "\n",
    "        self.play(\n",
    "            Swap(circles[1], circles[3]), path_arc = 135 * DEGREES\n",
    "        )\n",
    "\n",
    "        self.wait()"
   ]
  },
  {
   "cell_type": "code",
   "execution_count": 110,
   "metadata": {},
   "outputs": [
    {
     "name": "stderr",
     "output_type": "stream",
     "text": [
      "                                                                         \r"
     ]
    },
    {
     "data": {
      "text/html": [
       "<video src=\"media\\jupyter\\TestShuffle@2024-01-10@14-40-45.mp4\" controls autoplay loop style=\"max-width: 60%;\"  >\n",
       "      Your browser does not support the <code>video</code> element.\n",
       "    </video>"
      ],
      "text/plain": [
       "<IPython.core.display.Video object>"
      ]
     },
     "metadata": {},
     "output_type": "display_data"
    }
   ],
   "source": [
    "%manim -qm -v warning TestShuffle"
   ]
  },
  {
   "cell_type": "code",
   "execution_count": 111,
   "metadata": {},
   "outputs": [],
   "source": [
    "from manim import *\n",
    "from random import *\n",
    "\n",
    "class Shuffle(Scene):\n",
    "    def construct(self):\n",
    "\n",
    "        n = 5\n",
    "\n",
    "        circles = VGroup(*[Circle(color = RED, fill_opacity = .8, fill_color = RED).scale(.6) for _ in range(n)])\n",
    "\n",
    "        circles.arrange_in_grid(1, 5, buff = .7)\n",
    "\n",
    "        self.play(*[Write(obj) for obj in circles])\n",
    "\n",
    "        selected = randint(0, n - 1)\n",
    "\n",
    "        self.play(\n",
    "            circles[selected].animate.set_color(WHITE)\n",
    "        )\n",
    "        self.play(\n",
    "            circles[selected].animate.set_color(RED)\n",
    "        )\n",
    "\n",
    "        swaps = 10\n",
    "        start = 1\n",
    "        end = .3\n",
    "\n",
    "        for i in range(swaps):\n",
    "            \n",
    "            speed = start - abs(start - end) * i/ swaps\n",
    "        \n",
    "            a, b = sample(range(n), 2)\n",
    "\n",
    "            self.play(\n",
    "                Swap(circles[a], circles[b]), run_time = speed, path_arc = 145 * DEGREES\n",
    "            )\n",
    "        \n",
    "        self.wait()\n",
    "\n",
    "        self.play(\n",
    "            circles[selected].animate.set_color(WHITE)\n",
    "        )\n",
    "        self.play(\n",
    "            circles[selected].animate.set_color(RED)\n",
    "        )\n",
    "\n"
   ]
  },
  {
   "cell_type": "code",
   "execution_count": 112,
   "metadata": {},
   "outputs": [
    {
     "name": "stderr",
     "output_type": "stream",
     "text": [
      "Animation 0: Write(Circle), etc.:   0%|          | 0/30 [00:00<?, ?it/s]"
     ]
    },
    {
     "name": "stderr",
     "output_type": "stream",
     "text": [
      "                                                                                       \r"
     ]
    },
    {
     "data": {
      "text/html": [
       "<video src=\"media\\jupyter\\Shuffle@2024-01-10@21-14-55.mp4\" controls autoplay loop style=\"max-width: 60%;\"  >\n",
       "      Your browser does not support the <code>video</code> element.\n",
       "    </video>"
      ],
      "text/plain": [
       "<IPython.core.display.Video object>"
      ]
     },
     "metadata": {},
     "output_type": "display_data"
    }
   ],
   "source": [
    "%manim -qm -v warning Shuffle"
   ]
  },
  {
   "cell_type": "markdown",
   "metadata": {},
   "source": [
    "## Desafio #2 - Algoritmo de ordenamento"
   ]
  },
  {
   "cell_type": "code",
   "execution_count": 9,
   "metadata": {},
   "outputs": [],
   "source": [
    "from manim import *\n",
    "from random import *\n",
    "\n",
    "class Sort(Scene):\n",
    "    def construct(self):\n",
    "\n",
    "        '''\n",
    "        Define um número de elementos e inicia uma lista de valores\n",
    "        inteiros randômicos dentro do intervalo especificado.\n",
    "        '''\n",
    "        n = 20\n",
    "        value_min, value_max = 1, 20\n",
    "\n",
    "        values = [randint(value_min, value_max) for _ in range(n)]\n",
    "\n",
    "        rectangle_width = .2\n",
    "        unit_height = .2\n",
    "        rectangle_spacing = 2.5\n",
    "\n",
    "        group_rec = [Rectangle(width = rectangle_width,\n",
    "                                        height = unit_height * v,\n",
    "                                        fill_color = WHITE,\n",
    "                                        fill_opacity = 1) for v in values]\n",
    "\n",
    "        rectangles = VGroup(*group_rec)\n",
    "        \n",
    "        alignment_point = None\n",
    "        max_value = 0\n",
    "\n",
    "        '''\n",
    "        Definir o ponto de alinhamento dos retângulos\n",
    "        '''\n",
    "        for i, v in enumerate(values):\n",
    "            if max_value < v:\n",
    "                max_value = v\n",
    "                '''\n",
    "                Pega cada retângulo, identifica a metade da altura e posiciona\n",
    "                o ponto de alinhamento abaixo da metade, que seria equivalente\n",
    "                à base do retângulo.\n",
    "                '''\n",
    "                alignment_point = Point().shift(DOWN * rectangles[i].height / 2)\n",
    "\n",
    "        '''\n",
    "        Alinhando todos os retângulos com relação ao ponto definido acima\n",
    "        '''\n",
    "        for i, rect in enumerate(rectangles):\n",
    "            rect.shift(\n",
    "                RIGHT \n",
    "                * (i - (len(rectangles) - 1)/ 2)\n",
    "                * rectangle_spacing\n",
    "                * rectangle_width\n",
    "            ).align_to(alignment_point, DOWN)\n",
    "\n",
    "        self.play(*[Write(r) for r in rectangles])\n",
    "\n",
    "        def animate_at(a, b, duration):\n",
    "            self.play(\n",
    "                *[\n",
    "                    r.animate.set_color(WHITE if i not in (a, b) else YELLOW)\n",
    "                    for i, r in enumerate(rectangles)\n",
    "                ],\n",
    "                run_time = duration\n",
    "            )\n",
    "        \n",
    "\n",
    "        def animate_swap(a, b, duration):\n",
    "            '''\n",
    "            Essa função ajusta a altura dos retângulos de acordo com o algoritmo de ordenamento.\n",
    "            O retângulo a é ajustado à altura do valor correspondente na lista, e o mesmo acontece\n",
    "            para b.\n",
    "            '''\n",
    "            self.play(\n",
    "                rectangles[a].animate.stretch_to_fit_height(values[a] * unit_height).align_to(alignment_point, DOWN),\n",
    "                rectangles[b].animate.stretch_to_fit_height(values[b] * unit_height).align_to(alignment_point, DOWN),\n",
    "                run_time = duration\n",
    "            )\n",
    "        \n",
    "        speed_slow = .7\n",
    "        speed_fast = .07\n",
    "\n",
    "        for i in range(n):\n",
    "            '''\n",
    "            Definimos um loop que varia de 0 a n. Para i = 0, (primeira passada)\n",
    "            a velocidade das animações será lenta, enquanto para i > 0 será rápida.\n",
    "            Iniciamos a variável swapped que irá controlar se determinado \n",
    "            retângulo já foi ordenado com relação à sua altura.\n",
    "            '''\n",
    "            speed = speed_slow if i == 0 else speed_fast\n",
    "            swapped = False\n",
    "            for j in range(n - i - 1):\n",
    "                '''\n",
    "                Inicia um loop variando de j até n - i - 1. Note que\n",
    "                para i = 0, j varia de 0 até 20 - 1 = 19. As animações\n",
    "                que verificam o ordenamento dos retângulos vai até j + 1,\n",
    "                ou seja, 20. Depois de verificar essa primeira leva, i = 1\n",
    "                e j varia de 0 a 18, com o ordenamento indo até j + 1 = 19,\n",
    "                e por aí vai.\n",
    "                '''\n",
    "                animate_at(j, j + 1, speed)\n",
    "\n",
    "                '''\n",
    "                Aqui verifica-se se o j-ésimo valor da lista values é maior que\n",
    "                o próximo valor (j + 1). Se for o caso, trocamos os valores de \n",
    "                j por j + 1, e de j + 1 por j. Se por exemplo, na lista temos \n",
    "                j = 22 e j + 1 = 10, queremos ordenar de forma que j = 10 e\n",
    "                j + 1 = 22. \n",
    "                '''\n",
    "\n",
    "                if values[j] > values[j + 1]:\n",
    "                    values [j], values[j + 1] = values[j + 1], values[j]\n",
    "\n",
    "                '''\n",
    "                A informação do ordenamento vai para a função de swap, que \n",
    "                troca as alturas dos retângulos. O retângulo A passa a ter\n",
    "                a altura j, que agora deve ser menor do que j + 1, enquanto \n",
    "                que o retângulo B passa a ter a altura j + 1, que agora é \n",
    "                maior do que j.\n",
    "                '''\n",
    "\n",
    "                animate_swap(j, j + 1, speed)\n",
    "\n",
    "                '''\n",
    "                Se for satisfeita a condição, redefinimos a variável swapped \n",
    "                para True.\n",
    "                '''\n",
    "                swapped = True\n",
    "            \n",
    "            '''\n",
    "            Verifica se houve um swap na passada. Caso não tenha tido, significa\n",
    "            que os valores já estão ordenados (com j < j + 1) e o processo é \n",
    "            terminado.\n",
    "            '''\n",
    "            if not swapped:\n",
    "                break\n",
    "\n",
    "        self.play(*[FadeOut(r) for r in rectangles])\n"
   ]
  },
  {
   "cell_type": "code",
   "execution_count": 10,
   "metadata": {},
   "outputs": [
    {
     "name": "stderr",
     "output_type": "stream",
     "text": [
      "                                                                                                \r"
     ]
    },
    {
     "data": {
      "text/html": [
       "<video src=\"media\\jupyter\\Sort@2024-01-11@13-18-47.mp4\" controls autoplay loop style=\"max-width: 60%;\"  >\n",
       "      Your browser does not support the <code>video</code> element.\n",
       "    </video>"
      ],
      "text/plain": [
       "<IPython.core.display.Video object>"
      ]
     },
     "metadata": {},
     "output_type": "display_data"
    }
   ],
   "source": [
    "%manim -qm -v warning Sort"
   ]
  }
 ],
 "metadata": {
  "kernelspec": {
   "display_name": ".venv",
   "language": "python",
   "name": "python3"
  },
  "language_info": {
   "codemirror_mode": {
    "name": "ipython",
    "version": 3
   },
   "file_extension": ".py",
   "mimetype": "text/x-python",
   "name": "python",
   "nbconvert_exporter": "python",
   "pygments_lexer": "ipython3",
   "version": "3.11.4"
  }
 },
 "nbformat": 4,
 "nbformat_minor": 2
}

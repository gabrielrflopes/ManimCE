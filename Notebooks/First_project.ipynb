{
 "cells": [
  {
   "cell_type": "code",
   "execution_count": 2,
   "metadata": {},
   "outputs": [
    {
     "data": {
      "text/html": [
       "<pre style=\"white-space:pre;overflow-x:auto;line-height:normal;font-family:Menlo,'DejaVu Sans Mono',consolas,'Courier New',monospace\">Manim Community <span style=\"color: #008000; text-decoration-color: #008000\">v0.17.3</span>\n",
       "\n",
       "</pre>\n"
      ],
      "text/plain": [
       "Manim Community \u001b[32mv0.\u001b[0m\u001b[32m17.3\u001b[0m\n",
       "\n"
      ]
     },
     "metadata": {},
     "output_type": "display_data"
    }
   ],
   "source": [
    "from manim import *\n",
    "import numpy as np"
   ]
  },
  {
   "cell_type": "code",
   "execution_count": 3,
   "metadata": {},
   "outputs": [],
   "source": [
    "from random import uniform, seed\n",
    "\n",
    "class Abertura(Scene):\n",
    "\n",
    "    def construct(self):\n",
    "        seed(0xDEADBEEF)\n",
    "\n",
    "        self.camera.background_color = '#191919'\n",
    "\n",
    "        main_dot = Dot(radius = .35)\n",
    "\n",
    "        group_dots = VGroup(\n",
    "            *[Dot(radius = .01).shift(i * 0.3 * RIGHT * uniform(-1, 1) + i * UP * 0.2 * uniform(-1, 1)) \n",
    "              for i in range(0, 150)]\n",
    "              )\n",
    "        \n",
    "        colors = [BLUE_A, BLUE_B, BLUE_C, BLUE_D, BLUE_E]\n",
    "\n",
    "        ellipses = VGroup(\n",
    "            *[Ellipse(color = colors[i], width = 3, height = 1).rotate(i * PI / 4)\n",
    "              for i in range(5)]\n",
    "        )\n",
    "\n",
    "        ellipse_final = Ellipse(color = WHITE, width = 1.5, height = .5).rotate(PI / 4)\n",
    "\n",
    "        name = Text('Sentido Físico', font = 'Bebas Neue').shift(DOWN)\n",
    "\n",
    "        self.play(GrowFromCenter(main_dot), run_time = .5)\n",
    "        self.play(Write(ellipses), run_time = 1.7)\n",
    "        self.play(ReplacementTransform(ellipses, ellipse_final), run_time = 1)\n",
    "        self.play(ellipse_final.animate.surround(main_dot), FadeIn(group_dots), run_time = .5)\n",
    "        self.play(Write(name, run_time = 1))\n",
    "        self.wait(.5)\n",
    "        self.play(FadeOut(group_dots), Uncreate(main_dot), Uncreate(ellipse_final), FadeOut(name))\n",
    "        self.wait(.5)"
   ]
  },
  {
   "cell_type": "code",
   "execution_count": 4,
   "metadata": {},
   "outputs": [
    {
     "name": "stderr",
     "output_type": "stream",
     "text": [
      "                                                                                                 \r"
     ]
    },
    {
     "data": {
      "text/html": [
       "<video src=\"media\\jupyter\\Abertura@2024-01-12@22-16-44.mp4\" controls autoplay loop style=\"max-width: 60%;\"  >\n",
       "      Your browser does not support the <code>video</code> element.\n",
       "    </video>"
      ],
      "text/plain": [
       "<IPython.core.display.Video object>"
      ]
     },
     "metadata": {},
     "output_type": "display_data"
    }
   ],
   "source": [
    "%manim -qh -v WARNING Abertura"
   ]
  },
  {
   "cell_type": "code",
   "execution_count": 5,
   "metadata": {},
   "outputs": [
    {
     "name": "stderr",
     "output_type": "stream",
     "text": [
      "                                                                                                            \r"
     ]
    },
    {
     "data": {
      "text/html": [
       "<video src=\"media\\jupyter\\Cena1@2023-12-01@11-09-16.mp4\" controls autoplay loop style=\"max-width: 60%;\"  >\n",
       "      Your browser does not support the <code>video</code> element.\n",
       "    </video>"
      ],
      "text/plain": [
       "<IPython.core.display.Video object>"
      ]
     },
     "metadata": {},
     "output_type": "display_data"
    }
   ],
   "source": [
    "%manim -qm -v WARNING Cena1\n",
    "\n",
    "# Configuração Normal Full HD\n",
    "config.frame_width = 16\n",
    "config.frame_height = 9\n",
    "\n",
    "config.pixel_width = 1920\n",
    "config.pixel_height = 1080\n",
    "\n",
    "# Configuração para stories\n",
    "#config.frame_width = 9\n",
    "#config.frame_height = 16\n",
    "\n",
    "#config.pixel_width = 1080\n",
    "#config.pixel_height = 1920\n",
    "\n",
    "class Cena1(Scene):\n",
    "\n",
    "    def construct(self):\n",
    "\n",
    "        self.camera.background_color = '#191919'\n",
    "\n",
    "        ax = Axes([-3, 3, 1], [-3, 3, 1], tips = False)\n",
    "        circle = Circle(color = WHITE)\n",
    "        sine = ax.plot(lambda x: np.sin(2 * x), color = RED_C) # Construir a função seno utilizando o método .plot() e a função lambda\n",
    "        area1 = ax.get_area(sine, x_range = [-PI / 2, PI / 2])\n",
    "        func = MathTex('f(x) = sin(2x)').shift(UP * 2 + RIGHT * 3)\n",
    "        func2 = MathTex('f(x) = cos(2x)').shift(UP * 2 + RIGHT * 3)\n",
    "        cos = ax.plot(lambda x: np.sin(2 * x + PI / 2), color = BLUE_C)\n",
    "        area2 = ax.get_area(cos, x_range = [-PI / 2, PI / 2])\n",
    "\n",
    "        self.play(Write(ax, run_time = 2), Write(circle, run_time = 1.5))\n",
    "        self.play(circle.animate.scale(2))\n",
    "        self.play(ReplacementTransform(circle, sine, run_time = 2), Write(func, run_time = 1))\n",
    "        self.play(Create(area1))\n",
    "        self.play(Uncreate(area1))\n",
    "        self.play(ReplacementTransform(sine, cos), Transform(func, func2, run_time = .5))\n",
    "        self.play(Create(area2))\n",
    "        self.wait(2)"
   ]
  },
  {
   "cell_type": "code",
   "execution_count": 10,
   "metadata": {},
   "outputs": [
    {
     "name": "stderr",
     "output_type": "stream",
     "text": [
      "                                                                                   \r"
     ]
    },
    {
     "data": {
      "text/html": [
       "<video src=\"media\\jupyter\\AnimGrupo@2023-07-16@22-33-55.mp4\" controls autoplay loop style=\"max-width: 60%;\"  >\n",
       "      Your browser does not support the <code>video</code> element.\n",
       "    </video>"
      ],
      "text/plain": [
       "<IPython.core.display.Video object>"
      ]
     },
     "metadata": {},
     "output_type": "display_data"
    }
   ],
   "source": [
    "%%manim -ql -v WARNING AnimGrupo\n",
    "\n",
    "from manim.utils.color import Color\n",
    "\n",
    "class AnimGrupo(Scene):\n",
    "\n",
    "    def construct(self):\n",
    "\n",
    "        self.camera.background_color = '#191919'\n",
    "\n",
    "        # Criar um grupo de quadrados e dispô-los em um grid\n",
    "        squares = VGroup(*[Square(color = Color(hue = j/50, saturation = .5, \n",
    "        luminance = .5), fill_opacity = .5) for j in range(20)]).arrange_in_grid(4, 5).scale(.5)\n",
    "\n",
    "        self.play(AnimationGroup(*[FadeIn(s) for s in squares], lag_ratio = .2)) # Agrupar as animações com um delay de 0.2 s entre elas\n",
    "        self.wait()"
   ]
  },
  {
   "cell_type": "code",
   "execution_count": 13,
   "metadata": {},
   "outputs": [
    {
     "name": "stderr",
     "output_type": "stream",
     "text": [
      "                                                            \r"
     ]
    },
    {
     "data": {
      "text/html": [
       "<video src=\"media\\jupyter\\AllUpdaterTypes@2023-07-26@13-25-25.mp4\" controls autoplay loop style=\"max-width: 60%;\"  >\n",
       "      Your browser does not support the <code>video</code> element.\n",
       "    </video>"
      ],
      "text/plain": [
       "<IPython.core.display.Video object>"
      ]
     },
     "metadata": {},
     "output_type": "display_data"
    }
   ],
   "source": [
    "%%manim -qm -v WARNING AllUpdaterTypes\n",
    "\n",
    "class AllUpdaterTypes(Scene):\n",
    "    def construct(self):\n",
    "\n",
    "        red_dot = Dot(color = RED).shift(LEFT)\n",
    "        pointer = Arrow(ORIGIN, RIGHT).next_to(red_dot, LEFT)\n",
    "\n",
    "        pointer.add_updater(\n",
    "            lambda mobject: mobject.next_to(red_dot, LEFT)\n",
    "        )\n",
    "\n",
    "        def shifter(mob, dt):\n",
    "            mob.shift(2 * RIGHT * dt)\n",
    "        \n",
    "        red_dot.add_updater(shifter)\n",
    "\n",
    "        def scene_scaler(dt):\n",
    "            for mob in self.mobjects:\n",
    "                mob.set(width = 2 / (1 + np.linalg.norm(mob.get_center())))\n",
    "        \n",
    "        self.add_updater(scene_scaler)\n",
    "        \n",
    "        self.add(red_dot, pointer)\n",
    "        self.update_self(0)\n",
    "        self.wait(5)"
   ]
  },
  {
   "cell_type": "code",
   "execution_count": 16,
   "metadata": {},
   "outputs": [
    {
     "name": "stderr",
     "output_type": "stream",
     "text": [
      "                                                                                         \r"
     ]
    },
    {
     "data": {
      "text/html": [
       "<video src=\"media\\jupyter\\UpdaterAndAnimation@2023-07-26@13-34-20.mp4\" controls autoplay loop style=\"max-width: 60%;\"  >\n",
       "      Your browser does not support the <code>video</code> element.\n",
       "    </video>"
      ],
      "text/plain": [
       "<IPython.core.display.Video object>"
      ]
     },
     "metadata": {},
     "output_type": "display_data"
    }
   ],
   "source": [
    "%%manim -qm -v WARNING UpdaterAndAnimation\n",
    "\n",
    "class UpdaterAndAnimation(Scene):\n",
    "    def construct(self):\n",
    "\n",
    "        red_dot = Dot(color = RED).shift(LEFT)\n",
    "        rotating_square = Square()\n",
    "\n",
    "        rotating_square.add_updater(\n",
    "            lambda mobject, dt: mobject.rotate(PI * dt)\n",
    "        )\n",
    "\n",
    "        def shifter(mob, dt):\n",
    "            mob.shift(2 * RIGHT * dt)\n",
    "        red_dot.add_updater(shifter)\n",
    "\n",
    "        self.add(red_dot, rotating_square)\n",
    "        self.wait()\n",
    "        red_dot.suspend_updating()\n",
    "        self.wait()\n",
    "\n",
    "        self.play(\n",
    "            red_dot.animate.shift(UP),\n",
    "            rotating_square.animate.move_to([-2, 2, 0])\n",
    "        )\n",
    "\n",
    "        self.wait(2)"
   ]
  },
  {
   "cell_type": "code",
   "execution_count": 24,
   "metadata": {},
   "outputs": [
    {
     "name": "stderr",
     "output_type": "stream",
     "text": [
      "                                                                                            \r"
     ]
    },
    {
     "data": {
      "text/html": [
       "<video src=\"media\\jupyter\\ValueTrackerEx1@2023-07-26@13-43-33.mp4\" controls autoplay loop style=\"max-width: 60%;\"  >\n",
       "      Your browser does not support the <code>video</code> element.\n",
       "    </video>"
      ],
      "text/plain": [
       "<IPython.core.display.Video object>"
      ]
     },
     "metadata": {},
     "output_type": "display_data"
    }
   ],
   "source": [
    "%%manim -qm -v WARNING ValueTrackerEx1\n",
    "\n",
    "class ValueTrackerEx1(Scene):\n",
    "    def construct(self):\n",
    "        line = NumberLine(x_range = [-5, 5])\n",
    "        position = ValueTracker(0)\n",
    "        pointer = Vector(DOWN)\n",
    "\n",
    "        pointer.add_updater(\n",
    "            lambda mob: mob.next_to(\n",
    "            line.number_to_point(position.get_value()), UP\n",
    "        ))\n",
    "\n",
    "        pointer.update()\n",
    "        self.play(Write(line))\n",
    "        self.play(FadeIn(pointer))\n",
    "        self.wait()\n",
    "        self.play(position.animate.set_value(4))\n",
    "        self.wait()\n",
    "        self.play(position.animate.set_value(-2))\n",
    "        self.wait()"
   ]
  },
  {
   "cell_type": "code",
   "execution_count": 50,
   "metadata": {},
   "outputs": [
    {
     "name": "stderr",
     "output_type": "stream",
     "text": [
      "                                                                                             \r"
     ]
    },
    {
     "data": {
      "text/html": [
       "<video src=\"media\\jupyter\\UpdateFunction@2023-07-26@14-52-25.mp4\" controls autoplay loop style=\"max-width: 60%;\"  >\n",
       "      Your browser does not support the <code>video</code> element.\n",
       "    </video>"
      ],
      "text/plain": [
       "<IPython.core.display.Video object>"
      ]
     },
     "metadata": {},
     "output_type": "display_data"
    }
   ],
   "source": [
    "%%manim -qm -v WARNING UpdateFunction\n",
    "\n",
    "class UpdateFunction(Scene):\n",
    "    def construct(self):\n",
    "\n",
    "        s = ValueTracker(1)\n",
    "        ax = Axes(x_range = [-4, 4, 1], y_range = [-4, 4, 1], tips = False)\n",
    "        sine = ax.plot(lambda x: np.sin(x), color = BLUE_C)\n",
    "        math = MathTex('f(x) = sin(x)').move_to(2.5 * UR)\n",
    "\n",
    "        sine.add_updater(\n",
    "            lambda mob: mob.become(\n",
    "            ax.plot(lambda x: np.sin(s.get_value() * x), color = RED)\n",
    "                )\n",
    "        )\n",
    "\n",
    "        s_number = DecimalNumber(s.get_value(), \n",
    "                                 color = RED, \n",
    "                                 num_decimal_places = 1, \n",
    "                                 show_ellipsis = False)\n",
    "        \n",
    "        s_number.add_updater(\n",
    "            lambda mob: mob.set_value(s.get_value()).next_to(sine)\n",
    "        )\n",
    "\n",
    "        self.play(Write(ax)) \n",
    "        self.play(Write(sine), Write(math))\n",
    "        self.play(FadeIn(s_number))\n",
    "        self.play(s.animate.set_value(4))\n",
    "        self.wait()\n",
    "        self.play(s.animate.set_value(2))\n",
    "        self.wait()\n",
    "        self.play(s.animate.set_value(1 / 2))\n",
    "        self.wait()"
   ]
  },
  {
   "cell_type": "code",
   "execution_count": 7,
   "metadata": {},
   "outputs": [
    {
     "name": "stderr",
     "output_type": "stream",
     "text": [
      "                                                                                                   \r"
     ]
    },
    {
     "data": {
      "text/html": [
       "<video src=\"media\\jupyter\\AberturaIntense@2023-07-28@10-33-02.mp4\" controls autoplay loop style=\"max-width: 60%;\"  >\n",
       "      Your browser does not support the <code>video</code> element.\n",
       "    </video>"
      ],
      "text/plain": [
       "<IPython.core.display.Video object>"
      ]
     },
     "metadata": {},
     "output_type": "display_data"
    }
   ],
   "source": [
    "%%manim -qh -v WARNING AberturaIntense\n",
    "\n",
    "class AberturaIntense(Scene):\n",
    "    def construct(self):\n",
    "\n",
    "        self.camera.background_color = '#181818'\n",
    "        Text.set_default(font = 'Squada One')\n",
    "\n",
    "        lamp = SVGMobject('svg\\light-bulb.svg', fill_color = WHITE, fill_opacity = .3).scale(2)\n",
    "        eqs = SVGMobject('eqs.svg', fill_color = GRAY_B, fill_opacity = .1).scale(8)\n",
    "        \n",
    "        tex = Text('INTENSE\\n ENSINA', \n",
    "                    font_size = 65, weight = BOLD, \n",
    "                    t2c = {'[2:5]': '#FE7D10'}).move_to(lamp.get_center())\n",
    "\n",
    "        self.play(Write(lamp, run_time = 2), \n",
    "                        Create(eqs, run_time = .7))\n",
    "\n",
    "        self.play(Create(tex))\n",
    "        self.play(Flash(tex, color = '#FE7D10', flash_radius = 2, line_length = .5, num_lines = 20, run_time = .8), \n",
    "                  ShowPassingFlash(tex.copy(), run_time = 1.2))\n",
    "\n",
    "        self.wait(.5)\n",
    "        self.play(Unwrite(tex), Unwrite(lamp), Uncreate(eqs))\n",
    "        self.wait()"
   ]
  }
 ],
 "metadata": {
  "kernelspec": {
   "display_name": ".venv",
   "language": "python",
   "name": "python3"
  },
  "language_info": {
   "codemirror_mode": {
    "name": "ipython",
    "version": 3
   },
   "file_extension": ".py",
   "mimetype": "text/x-python",
   "name": "python",
   "nbconvert_exporter": "python",
   "pygments_lexer": "ipython3",
   "version": "3.11.4"
  },
  "orig_nbformat": 4
 },
 "nbformat": 4,
 "nbformat_minor": 2
}
